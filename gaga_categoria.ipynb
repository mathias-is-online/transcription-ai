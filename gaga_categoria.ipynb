{
 "cells": [
  {
   "cell_type": "code",
   "execution_count": 3,
   "metadata": {},
   "outputs": [
    {
     "name": "stdout",
     "output_type": "stream",
     "text": [
      "Transcripción guardada en: C:\\Users\\mathi\\Downloads\\transcribe\\TEXTO\\transcripcion.txt\n"
     ]
    }
   ],
   "source": [
    "import os\n",
    "import re\n",
    "import whisper\n",
    "\n",
    "# Ruta de la carpeta donde se almacenará el archivo de texto transcribido\n",
    "carpeta_destino = r\"C:\\Users\\mathi\\Downloads\\transcribe\\TEXTO\"\n",
    "\n",
    "# Comprobamos si la carpeta existe, y si no, la creamos\n",
    "if not os.path.exists(carpeta_destino):\n",
    "    os.makedirs(carpeta_destino)\n",
    "\n",
    "# Cargamos el modelo y realizamos la transcripción\n",
    "model = whisper.load_model(\"medium\")\n",
    "result = model.transcribe(\"audio.mp3\", language=\"es\", fp16=False)\n",
    "texto_transcrito = result[\"text\"]\n",
    "\n",
    "# Banco de palabras\n",
    "frases_banco = [\n",
    "    \"Hola\",\n",
    "    \"no me alcanza NEAR internet\",\n",
    "    \"se termina los datos\",\n",
    "    \"mis megas se acabaron\",\n",
    "    \"no estoy de acuerdo NEAR beneficios\",\n",
    "    \"el internet NEAR consume rápido\",\n",
    "    \"ya no quiero ese plan\",\n",
    "    \"no tengo megas\",\n",
    "    \"no tengo NEAR mega\",\n",
    "    \"internet NEAR demasiado rápido\",\n",
    "    \"se terminan las gigas\",\n",
    "    \"se acaba los gigas de internet\",\n",
    "    \"me quedé sin facebook\",\n",
    "    \"se me va rápido\",\n",
    "    \"solo tengo dos megas\",\n",
    "    \"dura NEAR muy poco\",\n",
    "    \"me dura NEAR poco\",\n",
    "    \"se acaba NEAR rápido\",\n",
    "    \"se termina NEAR rápido\",\n",
    "    \"me dura NEAR muy poco\",\n",
    "    \"precios NEAR muy altos\",\n",
    "    \"me cobran NEAR más NEAR otros\",\n",
    "    \"pago NEAR mucho NEAR otros\"\n",
    "]\n",
    "\n",
    "# Contador de frecuencia de las frases del banco\n",
    "frecuencia_frases = {frase: 0 for frase in frases_banco}\n",
    "\n",
    "# Buscamos coincidencias de las frases del banco en el texto transcribido\n",
    "for frase in frases_banco:\n",
    "    # Aplicamos NEAR como una expresión regular que permite palabras intermedias\n",
    "    patron = re.compile(frase.replace(\"NEAR\", r\"\\b\\w+\\b\"))\n",
    "    coincidencias = patron.findall(texto_transcrito)\n",
    "    frecuencia_frases[frase] = len(coincidencias)\n",
    "\n",
    "# Ruta completa del archivo de texto dentro de la carpeta destino\n",
    "ruta_archivo = os.path.join(carpeta_destino, \"transcripcion.txt\")\n",
    "\n",
    "# Escribimos el texto transcribido en el archivo\n",
    "with open(ruta_archivo, \"w\", encoding=\"utf-8\") as archivo:\n",
    "    archivo.write(texto_transcrito)\n",
    "\n",
    "# Agregamos información sobre la frecuencia de las frases del banco al final del archivo\n",
    "with open(ruta_archivo, \"a\", encoding=\"utf-8\") as archivo:\n",
    "    archivo.write(\"\\n\\nFrecuencia de frases del banco:\\n\")\n",
    "    for frase, frecuencia in frecuencia_frases.items():\n",
    "        archivo.write(f'{frase}: {frecuencia} veces\\n')\n",
    "\n",
    "print(f\"Transcripción guardada en: {ruta_archivo}\")\n"
   ]
  }
 ],
 "metadata": {
  "kernelspec": {
   "display_name": "Python 3",
   "language": "python",
   "name": "python3"
  },
  "language_info": {
   "codemirror_mode": {
    "name": "ipython",
    "version": 3
   },
   "file_extension": ".py",
   "mimetype": "text/x-python",
   "name": "python",
   "nbconvert_exporter": "python",
   "pygments_lexer": "ipython3",
   "version": "3.11.7"
  }
 },
 "nbformat": 4,
 "nbformat_minor": 2
}
