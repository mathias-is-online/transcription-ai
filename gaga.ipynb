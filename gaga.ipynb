{
 "cells": [
  {
   "cell_type": "code",
   "execution_count": 2,
   "metadata": {},
   "outputs": [
    {
     "name": "stdout",
     "output_type": "stream",
     "text": [
      "Transcripción guardada en: C:\\Users\\mathi\\Downloads\\transcribe\\TEXTO\\transcripcion.txt\n"
     ]
    }
   ],
   "source": [
    "import os\n",
    "import whisper\n",
    "\n",
    "# Ruta de la carpeta donde se almacenará el archivo de texto transcribido\n",
    "carpeta_destino = r\"C:\\Users\\mathi\\Downloads\\transcribe\\TEXTO\"\n",
    "\n",
    "# Comprobamos si la carpeta existe, y si no, la creamos\n",
    "if not os.path.exists(carpeta_destino):\n",
    "    os.makedirs(carpeta_destino)\n",
    "\n",
    "# Cargamos el modelo y realizamos la transcripción\n",
    "model = whisper.load_model(\"base\")\n",
    "result = model.transcribe(\"audio.mp3\", language=\"es\", fp16=False)\n",
    "texto_transcrito = result[\"text\"]\n",
    "\n",
    "# Ruta completa del archivo de texto dentro de la carpeta destino\n",
    "ruta_archivo = os.path.join(carpeta_destino, \"transcripcion.txt\")\n",
    "\n",
    "# Escribimos el texto transcribido en el archivo\n",
    "with open(ruta_archivo, \"w\", encoding=\"utf-8\") as archivo:\n",
    "    archivo.write(texto_transcrito)\n",
    "\n",
    "print(f\"Transcripción guardada en: {ruta_archivo}\")\n",
    "\n"
   ]
  }
 ],
 "metadata": {
  "kernelspec": {
   "display_name": "Python 3",
   "language": "python",
   "name": "python3"
  },
  "language_info": {
   "codemirror_mode": {
    "name": "ipython",
    "version": 3
   },
   "file_extension": ".py",
   "mimetype": "text/x-python",
   "name": "python",
   "nbconvert_exporter": "python",
   "pygments_lexer": "ipython3",
   "version": "3.11.7"
  }
 },
 "nbformat": 4,
 "nbformat_minor": 2
}
